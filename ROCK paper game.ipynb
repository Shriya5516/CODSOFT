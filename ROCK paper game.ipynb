{
 "cells": [
  {
   "cell_type": "code",
   "execution_count": 1,
   "id": "ee861b28",
   "metadata": {},
   "outputs": [
    {
     "name": "stdout",
     "output_type": "stream",
     "text": [
      "ROCK PAPER SCISSORS !!!\n",
      "(rock paper scissors) Enter your choice : Paper\n",
      "YOU: Paper \n",
      "Computer: Rock\n",
      "You won!!\n",
      "Do want to play again??(yes/no): yes\n",
      "You won the game \n",
      "your score:  1\n",
      "Computer score:  0\n",
      "(rock paper scissors) Enter your choice : paper\n",
      "YOU: Paper \n",
      "Computer: Scissors\n",
      "You lost\n",
      "Do want to play again??(yes/no): no\n",
      "Game draw \n",
      "your score:  1\n",
      "Computer score:  1\n"
     ]
    }
   ],
   "source": [
    "# ROCK PAPER SCISSORS GAME #\n",
    "\n",
    "# GAME RULES #\n",
    "#Rock beats scissors, scissors beat paper, and paper beats rock# \n",
    "\n",
    "import random\n",
    "choices = (\"Rock\",\"Paper\",\"Scissors\")\n",
    "playing = True \n",
    "print(\"ROCK PAPER SCISSORS !!!\")\n",
    "\n",
    "user_score = 0\n",
    "comp_score = 0\n",
    "    \n",
    "    \n",
    "while playing:\n",
    "    \n",
    "    comp = random.choice(choices)\n",
    "    user = input(\"(rock paper scissors) Enter your choice : \").capitalize()\n",
    "    \n",
    "    print(f\"YOU: {user} \")\n",
    "    print(f\"Computer: {comp}\")\n",
    "    \n",
    "    if user == \"Rock\" and comp == \"Scissors\":\n",
    "        print(\"You won!!\")\n",
    "        user_score += 1\n",
    "        \n",
    "    elif user == \"Paper\" and comp == \"Rock\":\n",
    "        print(\"You won!!\")\n",
    "        user_score += 1\n",
    "            \n",
    "    elif user == \"Scissors\" and comp == \"Paper\":\n",
    "        print(\"You won!!\")\n",
    "        user_score += 1\n",
    "            \n",
    "    elif user == comp:\n",
    "        print(\"It's a tie \")\n",
    "        \n",
    "    else:\n",
    "        print(\"You lost\")\n",
    "        comp_score += 1\n",
    "        \n",
    "#Asking user if interested in playing multiple times\n",
    "    \n",
    "    play_again = input(\"Do want to play again??(yes/no): \").lower()\n",
    "    if play_again != \"yes\":\n",
    "        playing  = False\n",
    "        \n",
    "        \n",
    "# Total scored will be displayed\n",
    "    \n",
    "    if user_score == comp_score:\n",
    "        print(\"Game draw \")\n",
    "        \n",
    "    elif user_score > comp_score:\n",
    "        print(\"You won the game \")\n",
    "\n",
    "    else:\n",
    "        print(\"You lost the game\")\n",
    "        \n",
    "    print(\"your score: \",user_score)\n",
    "    print(\"Computer score: \",comp_score)\n",
    "\n",
    " "
   ]
  },
  {
   "cell_type": "code",
   "execution_count": null,
   "id": "f3627d74",
   "metadata": {},
   "outputs": [],
   "source": []
  }
 ],
 "metadata": {
  "kernelspec": {
   "display_name": "Python 3 (ipykernel)",
   "language": "python",
   "name": "python3"
  },
  "language_info": {
   "codemirror_mode": {
    "name": "ipython",
    "version": 3
   },
   "file_extension": ".py",
   "mimetype": "text/x-python",
   "name": "python",
   "nbconvert_exporter": "python",
   "pygments_lexer": "ipython3",
   "version": "3.11.5"
  }
 },
 "nbformat": 4,
 "nbformat_minor": 5
}
