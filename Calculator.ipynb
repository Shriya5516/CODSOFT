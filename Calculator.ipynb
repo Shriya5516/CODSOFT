{
 "cells": [
  {
   "cell_type": "code",
   "execution_count": 9,
   "id": "ae2f90db",
   "metadata": {},
   "outputs": [
    {
     "name": "stdout",
     "output_type": "stream",
     "text": [
      "Enter the 1st number: 5\n",
      "Enter the 2nd number: 3\n",
      "Enter your choice: 1 for addition 2 for subtraction 3 for multiply 4 for division4\n",
      "result:  1.6666666666666667\n"
     ]
    }
   ],
   "source": [
    "#Ask user to input 2 numbers\n",
    "\n",
    "num1 = int(input(\"Enter the 1st number: \"))\n",
    "num2 = int(input(\"Enter the 2nd number: \"))\n",
    "\n",
    "#Give user the option for required operation\n",
    "choice = int(input(\"Enter your choice: 1 for addition 2 for subtraction 3 for multiply 4 for division\"))\n",
    "if(choice==1):\n",
    "    result = num1+num2\n",
    "    print(\"result: \",result)\n",
    "elif(choice==2):\n",
    "    result = num1-num2\n",
    "    print(\"result: \",result)\n",
    "elif(choice==3):\n",
    "    result = num1*num2\n",
    "    print(\"result: \",result)\n",
    "elif(choice==4):\n",
    "    result = num1/num2\n",
    "    print(\"result: \",result)\n",
    "else:\n",
    "    print(\"error\")\n",
    "    \n",
    " "
   ]
  },
  {
   "cell_type": "code",
   "execution_count": null,
   "id": "b31683ab",
   "metadata": {},
   "outputs": [],
   "source": []
  },
  {
   "cell_type": "code",
   "execution_count": null,
   "id": "edacc3be",
   "metadata": {},
   "outputs": [],
   "source": []
  }
 ],
 "metadata": {
  "kernelspec": {
   "display_name": "Python 3 (ipykernel)",
   "language": "python",
   "name": "python3"
  },
  "language_info": {
   "codemirror_mode": {
    "name": "ipython",
    "version": 3
   },
   "file_extension": ".py",
   "mimetype": "text/x-python",
   "name": "python",
   "nbconvert_exporter": "python",
   "pygments_lexer": "ipython3",
   "version": "3.11.5"
  }
 },
 "nbformat": 4,
 "nbformat_minor": 5
}
