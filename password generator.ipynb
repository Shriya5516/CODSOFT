{
 "cells": [
  {
   "cell_type": "code",
   "execution_count": 1,
   "id": "ab94e7e4",
   "metadata": {},
   "outputs": [
    {
     "name": "stdout",
     "output_type": "stream",
     "text": [
      "Enter the length of the password you want: 8\n",
      "Password:  7IAC9gwE\n"
     ]
    }
   ],
   "source": [
    "import random\n",
    "\n",
    "lowercase_alpha = ['a','b','c','d','e','f','g','h','i','j','k','l','m','n','o','p','q','r','s','t','u','v','w','x','y','z']\n",
    "uppercase_alpha = [letter.upper() for letter in lowercase_alpha]\n",
    "numbers = ['0','1','2','3','4','5','6','7','8','9']\n",
    "symbols = ['!','@','#','%','^','&','*','-','+','?','/']\n",
    "\n",
    "#Ask user the length of the password required\n",
    "\n",
    "length = int(input(\"Enter the length of the password you want: \"))\n",
    "add = lowercase_alpha + uppercase_alpha +  numbers + symbols\n",
    "word = random.sample(add,length)\n",
    "password = \"\".join(word)\n",
    "print(\"Password: \",password)"
   ]
  },
  {
   "cell_type": "code",
   "execution_count": null,
   "id": "04dd0051",
   "metadata": {},
   "outputs": [],
   "source": []
  }
 ],
 "metadata": {
  "kernelspec": {
   "display_name": "Python 3 (ipykernel)",
   "language": "python",
   "name": "python3"
  },
  "language_info": {
   "codemirror_mode": {
    "name": "ipython",
    "version": 3
   },
   "file_extension": ".py",
   "mimetype": "text/x-python",
   "name": "python",
   "nbconvert_exporter": "python",
   "pygments_lexer": "ipython3",
   "version": "3.11.5"
  }
 },
 "nbformat": 4,
 "nbformat_minor": 5
}
